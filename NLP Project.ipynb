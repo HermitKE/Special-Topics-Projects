{
 "cells": [
  {
   "cell_type": "code",
   "execution_count": null,
   "metadata": {},
   "outputs": [],
   "source": [
    "# importing libraries\n",
    "\n",
    "from textblob import TextBlob\n",
    "import pandas as pd\n",
    "import numpy as np\n",
    "import matplotlib.pyplot as plt\n",
    "import re\n",
    "import nltk\n",
    "from nltk.corpus import stopwords\n",
    "from nltk.stem.porter import PorterStemmer\n"
   ]
  },
  {
   "cell_type": "code",
   "execution_count": null,
   "metadata": {},
   "outputs": [],
   "source": [
    "nltk.download('stopwords')"
   ]
  },
  {
   "cell_type": "code",
   "execution_count": null,
   "metadata": {},
   "outputs": [],
   "source": [
    "# importing data\n",
    "\n",
    "origin = pd.read_csv(\"Apple-Twitter-Sentiment-DFE.csv\", encoding='latin1')\n",
    "origin.head()"
   ]
  },
  {
   "cell_type": "code",
   "execution_count": null,
   "metadata": {},
   "outputs": [],
   "source": [
    "origin.shape"
   ]
  },
  {
   "cell_type": "code",
   "execution_count": null,
   "metadata": {},
   "outputs": [],
   "source": [
    "origin.describe()"
   ]
  },
  {
   "cell_type": "code",
   "execution_count": null,
   "metadata": {},
   "outputs": [],
   "source": [
    "# Prepping the data\n",
    "\n",
    "o2 = origin.drop(columns=['_golden','_unit_state','_trusted_judgments',\n",
    "                    '_last_judgment_at','sentiment','sentiment:confidence',\n",
    "                    'id','query','sentiment_gold'], axis=1)\n",
    "o2.head()"
   ]
  },
  {
   "cell_type": "code",
   "execution_count": null,
   "metadata": {},
   "outputs": [],
   "source": [
    "o2.shape"
   ]
  },
  {
   "cell_type": "code",
   "execution_count": null,
   "metadata": {},
   "outputs": [],
   "source": [
    "o2.describe()"
   ]
  },
  {
   "cell_type": "code",
   "execution_count": null,
   "metadata": {},
   "outputs": [],
   "source": [
    "# Cleaning the data\n",
    "# Removing '@' handle\n",
    "\n",
    "def remove_pattern(input_txt, pattern):\n",
    "    r = re.findall(pattern, input_txt)\n",
    "    for i in r:\n",
    "        input_txt = re.sub(i, '', input_txt)\n",
    "    return input_txt \n",
    "\n",
    "o2['text'] = np.vectorize(remove_pattern)(o2['text'], \"@[\\w]*\")\n",
    "\n",
    "o2.head()"
   ]
  },
  {
   "cell_type": "code",
   "execution_count": null,
   "metadata": {},
   "outputs": [],
   "source": [
    "nltk.download('punkt')"
   ]
  },
  {
   "cell_type": "code",
   "execution_count": null,
   "metadata": {},
   "outputs": [],
   "source": [
    "text = o2['text']\n",
    "text"
   ]
  },
  {
   "cell_type": "code",
   "execution_count": null,
   "metadata": {},
   "outputs": [],
   "source": [
    "# Cleaning 'text'\n",
    "i=0\n",
    "corpus = []\n",
    "stop_words = set(stopwords.words(\"english\"))\n",
    "\n",
    "for i in o2['text']:\n",
    "    text = re.sub(r'[A-Za-z0-9]+', text[i])\n",
    "    text = text.lower()\n",
    "    text = re.sub(r'rt', text)\n",
    "    text = re.sub(r'http', text)\n",
    "    text = re.sub(r'https', text)\n",
    "    text = text.split()\n",
    "    pst = PorterStemmer()\n",
    "    text = [pst.stem(word) for word in text if not word in stop_words]\n",
    "    text = ' '.join(text)\n",
    "    corpus.append(text)"
   ]
  },
  {
   "cell_type": "code",
   "execution_count": null,
   "metadata": {},
   "outputs": [],
   "source": [
    "X = o2['text']\n",
    "\n",
    "tokens = nltk.word_tokenize(X)\n",
    "tokens"
   ]
  },
  {
   "cell_type": "code",
   "execution_count": null,
   "metadata": {},
   "outputs": [],
   "source": [
    "y = o2['sentiment']\n",
    "y"
   ]
  },
  {
   "cell_type": "code",
   "execution_count": null,
   "metadata": {},
   "outputs": [],
   "source": [
    "from textblob import TextBlob\n",
    "ts = TextBlob(tweet).sentiment\n",
    "# print(ts.subjectivity, ts.polarity) # Subjectivity, Sentiment Scores"
   ]
  },
  {
   "cell_type": "code",
   "execution_count": null,
   "metadata": {},
   "outputs": [],
   "source": [
    "# Sentiment Analysis Report\n",
    "# Finding sentiment analysis\n",
    "\n",
    "pos = 0\n",
    "neg = 0\n",
    "neu = 0\n",
    "for i in o2:\n",
    "    analysis = TextBlob(o2['text'][i])\n",
    "    if analysis.sentiment[0]>0:\n",
    "       pos = pos +1\n",
    "    elif analysis.sentiment[0]<0:\n",
    "       neg = neg + 1\n",
    "    else:\n",
    "       neu = neu + 1"
   ]
  },
  {
   "cell_type": "code",
   "execution_count": null,
   "metadata": {},
   "outputs": [],
   "source": [
    "from sklearn.naive_bayes import GaussianNB\n",
    "from sklearn.svm import SVC\n",
    "from sklearn.linear_model import LogisticRegression\n",
    "\n",
    "NBmodel = GaussianNB()\n",
    "SVCmodel = SVC(kernel='rbf', random_state = 1)\n",
    "LRmodel = LogisticRegression(solver='liblinear', random_state=0)\n"
   ]
  },
  {
   "cell_type": "code",
   "execution_count": null,
   "metadata": {},
   "outputs": [],
   "source": [
    "NBmodel.fit(X,y)"
   ]
  },
  {
   "cell_type": "code",
   "execution_count": null,
   "metadata": {},
   "outputs": [],
   "source": [
    "SVCmodel.fit(X,y)"
   ]
  },
  {
   "cell_type": "code",
   "execution_count": null,
   "metadata": {},
   "outputs": [],
   "source": [
    "LRmodel.fit(X,y)"
   ]
  },
  {
   "cell_type": "code",
   "execution_count": null,
   "metadata": {},
   "outputs": [],
   "source": [
    "from sklearn.model_selection import train_test_split\n",
    "from sklearn.metrics import accuracy_score\n",
    "\n",
    "Xtrain, Xtest, ytrain, ytest = train_test_split(X, y, test_size=0.2)\n",
    "NBmodel.fit(Xtrain, ytrain)\n",
    "prediction = NBmodel.predict(Xtest)\n",
    "\n",
    "score = accuracy_score(ytest, prediction)\n",
    "score"
   ]
  },
  {
   "cell_type": "code",
   "execution_count": null,
   "metadata": {},
   "outputs": [],
   "source": [
    "Xtrain, Xtest, ytrain, ytest = train_test_split(X, y, test_size=0.2)\n",
    "SVCmodel.fit(Xtrain, ytrain)\n",
    "prediction2 = SVCmodel.predict(Xtest)\n",
    "\n",
    "score2 = accuracy_score(ytest, prediction2)\n",
    "score2"
   ]
  },
  {
   "cell_type": "code",
   "execution_count": null,
   "metadata": {},
   "outputs": [],
   "source": [
    "Xtrain, Xtest, ytrain, ytest = train_test_split(X, y, test_size=0.2)\n",
    "LRmodel.fit(Xtrain, ytrain)\n",
    "prediction3 = LRmodel.predict(Xtest)\n",
    "\n",
    "score3 = accuracy_score(ytest, prediction3)\n",
    "score3"
   ]
  },
  {
   "cell_type": "code",
   "execution_count": null,
   "metadata": {},
   "outputs": [],
   "source": [
    "level = ['Positive','Negative','Neutral']\n",
    "x = range(len(level)) # x=axis\n",
    "y = o2['sentiment'] # y-axis\n",
    "plt.figure(dpi=100) # create figure\n",
    "\n",
    "# bar plot\n",
    "plt.bar(x, y , width=0.5, color=['b','r','g']) # plot figure\n",
    "plt.xticks(x, level)\n",
    "\n",
    "# add grid\n",
    "plt.grid(linestyle=\"--\", alpha=1)\n",
    "plt.show()"
   ]
  },
  {
   "cell_type": "code",
   "execution_count": null,
   "metadata": {},
   "outputs": [],
   "source": [
    "plt. style.use(\"seaborn-dark\")\n",
    "\n",
    "plt.figure(figsize=(8,6), dpi=80)\n",
    "\n",
    "# generate data\n",
    "X = range(len(level))\n",
    "P,Ne,Nu = np.pos(),np.neg(),np.neu()\n",
    "\n",
    "# draw a blue curve with customized format\n",
    "plt.plot(X, P, color=\"Blue\", linewidth=1.0, label=\"Positive\", linestyle=\"--\")\n",
    "# draw a green curve with customized format\n",
    "plt.plot(X, Ne, color=\"Green\", linewidth=1.0, label=\"Negative\", linestyle=\":\")\n",
    "# draw a orange curve with customized format\n",
    "plt.plot(X, Nu, color=\"Orange\", linewidth=1.0, label=\"Neutral\", linestyle=\":\")\n",
    "\n",
    "\n",
    "plt.legend()                                    # place a legend on the axes\n",
    "plt.xlim(-4.0,4.0)                              # set the scale of the x-axis\n",
    "plt.xticks(np.linspace(-4,4,9,endpoint=True))   # set the tick locations on x-axis\n",
    "plt.ylim(-1.0,1.0)                              # set the scale of the y-axis\n",
    "plt.yticks(np.linspace(-1,1,5,endpoint=True))   # set the tick location on y-axis\n",
    "\n",
    "plt.show()"
   ]
  }
 ],
 "metadata": {
  "language_info": {
   "name": "python"
  },
  "orig_nbformat": 4
 },
 "nbformat": 4,
 "nbformat_minor": 2
}
