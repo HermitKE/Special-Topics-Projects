{
 "cells": [
  {
   "cell_type": "markdown",
   "metadata": {},
   "source": [
    "I've chosen the PrideInn Azure Hotel in Nairobi and will be pulling reviews from tripadvisor."
   ]
  },
  {
   "cell_type": "markdown",
   "metadata": {},
   "source": [
    "### Imports "
   ]
  },
  {
   "cell_type": "code",
   "execution_count": 2,
   "metadata": {},
   "outputs": [],
   "source": [
    "import requests as req\n",
    "from bs4 import BeautifulSoup \n",
    "import numpy as np \n",
    "import pandas as pd \n",
    "import csv"
   ]
  },
  {
   "cell_type": "code",
   "execution_count": null,
   "metadata": {},
   "outputs": [],
   "source": [
    "# Extracting HTML and creating a BeautifulSoup object\n",
    "url = ('https://www.tripadvisor.com/Hotel_Review-g294207-d7144342-Reviews-PrideInn_Azure_Hotel_Nairobi-Nairobi.html')\n",
    "\n",
    "# spoofing 'user agent' in request to avoid \"antibot\" software where the web-server denies the scrape reqeust thinking its coming from a bot\n",
    "user_agent = ({'User-Agent':\n",
    "\t\t\t'Mozilla/5.0 (Windows NT 10.0; Win64; x64) \\\n",
    "\t\t\tAppleWebKit/537.36 (KHTML, like Gecko) \\\n",
    "\t\t\tChrome/90.0.4430.212 Safari/537.36',\n",
    "\t\t\t'Accept-Language': 'en-US, en;q=0.5'})\n",
    "\n",
    "def get_page_contents(url):\n",
    "    page = req.get(url, headers = user_agent)\n",
    "    return BeautifulSoup(page.text, 'html.parser')\n",
    "\n",
    "soup = get_page_contents(url)"
   ]
  },
  {
   "cell_type": "code",
   "execution_count": null,
   "metadata": {},
   "outputs": [],
   "source": [
    "# Finding and extracting data elements\n",
    "names = []\n",
    "for name in soup.findAll('a',{'class':'ui_header_link uyyBf'}):\n",
    "    names.append(name.text.strip())\n",
    "\n",
    "\n",
    "reviews = []\n",
    "for review in soup.findAll('div',{'class':'fIrGe _T'}):\n",
    "    reviews.append(review.text.strip())\n",
    "revs =reviews[:10]"
   ]
  },
  {
   "cell_type": "code",
   "execution_count": null,
   "metadata": {},
   "outputs": [],
   "source": [
    "# Creating Dataframe\n",
    "\n",
    "# dictionary to store and sort the collected data\n",
    "dict = {'Names':names,'Reviews':revs}\n"
   ]
  },
  {
   "cell_type": "code",
   "execution_count": null,
   "metadata": {},
   "outputs": [],
   "source": [
    "azure = pd.DataFrame.from_dict(dict)\n",
    "azure.head(5)"
   ]
  },
  {
   "cell_type": "code",
   "execution_count": null,
   "metadata": {},
   "outputs": [],
   "source": [
    "# Convert dataframe to CSV file.\n",
    "azure.to_csv('azure.csv', index=False, header=True)"
   ]
  },
  {
   "cell_type": "code",
   "execution_count": 3,
   "metadata": {},
   "outputs": [],
   "source": [
    "import re\n",
    "import nltk\n",
    "from nltk.tokenize import sent_tokenize, word_tokenize\n",
    "from nltk.corpus import stopwords\n",
    "from nltk.tokenize import word_tokenize\n",
    "from nltk.stem import PorterStemmer,WordNetLemmatizer\n",
    "from nltk.corpus import wordnet"
   ]
  },
  {
   "cell_type": "code",
   "execution_count": 4,
   "metadata": {},
   "outputs": [
    {
     "data": {
      "text/html": [
       "<div>\n",
       "<style scoped>\n",
       "    .dataframe tbody tr th:only-of-type {\n",
       "        vertical-align: middle;\n",
       "    }\n",
       "\n",
       "    .dataframe tbody tr th {\n",
       "        vertical-align: top;\n",
       "    }\n",
       "\n",
       "    .dataframe thead th {\n",
       "        text-align: right;\n",
       "    }\n",
       "</style>\n",
       "<table border=\"1\" class=\"dataframe\">\n",
       "  <thead>\n",
       "    <tr style=\"text-align: right;\">\n",
       "      <th></th>\n",
       "      <th>Names</th>\n",
       "      <th>Reviews</th>\n",
       "    </tr>\n",
       "  </thead>\n",
       "  <tbody>\n",
       "    <tr>\n",
       "      <th>0</th>\n",
       "      <td>Leslie H</td>\n",
       "      <td>PrideInn Azure Hotel Nairobi is located in Wes...</td>\n",
       "    </tr>\n",
       "    <tr>\n",
       "      <th>1</th>\n",
       "      <td>Steve J</td>\n",
       "      <td>Rooms are big enough, clean and well arranged....</td>\n",
       "    </tr>\n",
       "    <tr>\n",
       "      <th>2</th>\n",
       "      <td>Benjamin Kioko M</td>\n",
       "      <td>20 yr. Hx staying at high end hotels and lodge...</td>\n",
       "    </tr>\n",
       "    <tr>\n",
       "      <th>3</th>\n",
       "      <td>Noel B</td>\n",
       "      <td>Dear Steve,  Thank you very much for sharing y...</td>\n",
       "    </tr>\n",
       "    <tr>\n",
       "      <th>4</th>\n",
       "      <td>Mata M</td>\n",
       "      <td>I stayed for 3 nights and I felt like not leav...</td>\n",
       "    </tr>\n",
       "  </tbody>\n",
       "</table>\n",
       "</div>"
      ],
      "text/plain": [
       "              Names                                            Reviews\n",
       "0          Leslie H  PrideInn Azure Hotel Nairobi is located in Wes...\n",
       "1           Steve J  Rooms are big enough, clean and well arranged....\n",
       "2  Benjamin Kioko M  20 yr. Hx staying at high end hotels and lodge...\n",
       "3            Noel B  Dear Steve,  Thank you very much for sharing y...\n",
       "4            Mata M  I stayed for 3 nights and I felt like not leav..."
      ]
     },
     "execution_count": 4,
     "metadata": {},
     "output_type": "execute_result"
    }
   ],
   "source": [
    "o1 = pd.read_csv(\"azure.csv\", encoding='latin1')\n",
    "o1.head()"
   ]
  },
  {
   "cell_type": "code",
   "execution_count": 5,
   "metadata": {},
   "outputs": [
    {
     "data": {
      "text/plain": [
       "(10, 2)"
      ]
     },
     "execution_count": 5,
     "metadata": {},
     "output_type": "execute_result"
    }
   ],
   "source": [
    "o1.shape"
   ]
  },
  {
   "cell_type": "code",
   "execution_count": 6,
   "metadata": {},
   "outputs": [
    {
     "data": {
      "text/html": [
       "<div>\n",
       "<style scoped>\n",
       "    .dataframe tbody tr th:only-of-type {\n",
       "        vertical-align: middle;\n",
       "    }\n",
       "\n",
       "    .dataframe tbody tr th {\n",
       "        vertical-align: top;\n",
       "    }\n",
       "\n",
       "    .dataframe thead th {\n",
       "        text-align: right;\n",
       "    }\n",
       "</style>\n",
       "<table border=\"1\" class=\"dataframe\">\n",
       "  <thead>\n",
       "    <tr style=\"text-align: right;\">\n",
       "      <th></th>\n",
       "      <th>Names</th>\n",
       "      <th>Reviews</th>\n",
       "    </tr>\n",
       "  </thead>\n",
       "  <tbody>\n",
       "    <tr>\n",
       "      <th>count</th>\n",
       "      <td>10</td>\n",
       "      <td>10</td>\n",
       "    </tr>\n",
       "    <tr>\n",
       "      <th>unique</th>\n",
       "      <td>10</td>\n",
       "      <td>10</td>\n",
       "    </tr>\n",
       "    <tr>\n",
       "      <th>top</th>\n",
       "      <td>Leslie H</td>\n",
       "      <td>PrideInn Azure Hotel Nairobi is located in Wes...</td>\n",
       "    </tr>\n",
       "    <tr>\n",
       "      <th>freq</th>\n",
       "      <td>1</td>\n",
       "      <td>1</td>\n",
       "    </tr>\n",
       "  </tbody>\n",
       "</table>\n",
       "</div>"
      ],
      "text/plain": [
       "           Names                                            Reviews\n",
       "count         10                                                 10\n",
       "unique        10                                                 10\n",
       "top     Leslie H  PrideInn Azure Hotel Nairobi is located in Wes...\n",
       "freq           1                                                  1"
      ]
     },
     "execution_count": 6,
     "metadata": {},
     "output_type": "execute_result"
    }
   ],
   "source": [
    "o1.describe()"
   ]
  },
  {
   "cell_type": "code",
   "execution_count": null,
   "metadata": {},
   "outputs": [],
   "source": []
  },
  {
   "cell_type": "code",
   "execution_count": null,
   "metadata": {},
   "outputs": [],
   "source": [
    "\n",
    "def remove_pattern(input_txt, pattern):\n",
    "    r = re.findall(pattern, input_txt)\n",
    "    for i in r:\n",
    "        input_txt = re.sub(i, '', input_txt)\n",
    "    return input_txt \n",
    "\n",
    "o1['Reviews'] = np.vectorize(remove_pattern)(o1['Reviews'], \"@[\\w]*\")\n",
    "\n",
    "o1.head()"
   ]
  },
  {
   "cell_type": "code",
   "execution_count": null,
   "metadata": {},
   "outputs": [],
   "source": [
    "text = o1['Reviews']\n",
    "text"
   ]
  },
  {
   "cell_type": "code",
   "execution_count": null,
   "metadata": {},
   "outputs": [],
   "source": [
    "nltk.download('punkt')"
   ]
  },
  {
   "cell_type": "code",
   "execution_count": null,
   "metadata": {},
   "outputs": [],
   "source": [
    "# Cleaning 'text' and stemming\n",
    "\n",
    "i=0\n",
    "corpus = []\n",
    "stop_words = set(stopwords.words(\"english\"))\n",
    "\n",
    "for i in text:\n",
    "    text = re.sub(r'[A-Za-z0-9]+', text[i])\n",
    "    text = text.lower()\n",
    "    text = text.split()\n",
    "    pst = PorterStemmer()\n",
    "    text = [pst.stem(word) for word in text if not word in stop_words]\n",
    "    text = ' '.join(text)\n",
    "    corpus.append(text)\n"
   ]
  },
  {
   "cell_type": "code",
   "execution_count": null,
   "metadata": {},
   "outputs": [],
   "source": [
    "# Lemmatizing\n",
    "\n",
    "nltk.download('wordnet')"
   ]
  },
  {
   "cell_type": "code",
   "execution_count": null,
   "metadata": {},
   "outputs": [],
   "source": [
    "i=0\n",
    "lemmatizer = WordNetLemmatizer()\n",
    "\n",
    "for i in text:\n",
    "    text = lemmatizer.text()"
   ]
  },
  {
   "cell_type": "code",
   "execution_count": null,
   "metadata": {},
   "outputs": [],
   "source": [
    "import matplotlib.pyplot as plt"
   ]
  },
  {
   "cell_type": "code",
   "execution_count": null,
   "metadata": {},
   "outputs": [],
   "source": [
    "from wordcloud import WordCloud"
   ]
  },
  {
   "cell_type": "code",
   "execution_count": null,
   "metadata": {},
   "outputs": [],
   "source": [
    "#Creating the text variable\n",
    "text = \" \".join(cat.split()[1] for cat in df.category)\n"
   ]
  },
  {
   "cell_type": "code",
   "execution_count": null,
   "metadata": {},
   "outputs": [],
   "source": [
    "# Creating word_cloud with text as argument in .generate() method\n",
    "word_cloud = WordCloud(collocations = False, background_color = 'white').generate(text)\n"
   ]
  },
  {
   "cell_type": "code",
   "execution_count": null,
   "metadata": {},
   "outputs": [],
   "source": [
    "# Display the generated Word Cloud\n",
    "plt.imshow(wordcloud, interpolation='bilinear')\n",
    "plt.axis(\"off\")\n",
    "plt.show()"
   ]
  }
 ],
 "metadata": {
  "kernelspec": {
   "display_name": "Python 3.9.7 ('base')",
   "language": "python",
   "name": "python3"
  },
  "language_info": {
   "codemirror_mode": {
    "name": "ipython",
    "version": 3
   },
   "file_extension": ".py",
   "mimetype": "text/x-python",
   "name": "python",
   "nbconvert_exporter": "python",
   "pygments_lexer": "ipython3",
   "version": "3.9.7"
  },
  "orig_nbformat": 4,
  "vscode": {
   "interpreter": {
    "hash": "feb03a473f14a34587eafee27c4a265ae96da2b9a9e5e6615f62889e5ca906e7"
   }
  }
 },
 "nbformat": 4,
 "nbformat_minor": 2
}
